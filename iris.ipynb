{
 "cells": [
  {
   "cell_type": "code",
   "execution_count": 15,
   "id": "2ded7ff8",
   "metadata": {},
   "outputs": [
    {
     "name": "stdout",
     "output_type": "stream",
     "text": [
      "(112, 4)\n",
      "(112,)\n",
      "(38, 4)\n",
      "(38,)\n",
      "[2 1 0 1 1 0 1 1 0 1 1 1 0 2 0 1 2 2 0 0 1 2 1 1 2 1 1 1 2 2 2 1 0 2 1 0 0\n",
      " 0]\n",
      "[2 1 0 1 2 0 1 1 0 1 1 1 0 2 0 1 2 2 0 0 1 2 1 2 2 2 1 1 2 2 2 1 0 2 1 0 0\n",
      " 0]\n",
      "0.9210526315789473\n"
     ]
    }
   ],
   "source": [
    "from sklearn.datasets import load_iris \n",
    "iris_data = load_iris() \n",
    "from sklearn.model_selection import train_test_split \n",
    "x_train, x_test, y_train, y_test = train_test_split(iris_data['data'], iris_data['target'], random_state = 7) \n",
    "print(x_train.shape) \n",
    "print(y_train.shape) \n",
    "print(x_test.shape) \n",
    "print(y_test.shape)\n",
    "\n",
    "from sklearn.neighbors import KNeighborsClassifier \n",
    "knn = KNeighborsClassifier(n_neighbors = 4) \n",
    "knn.fit(x_train, y_train) \n",
    "\n",
    "prediction = knn.predict(x_test) \n",
    "print(prediction) \n",
    "print(y_test) \n",
    "print(knn.score(x_test, y_test))"
   ]
  },
  {
   "cell_type": "code",
   "execution_count": null,
   "id": "eaa38fa5",
   "metadata": {},
   "outputs": [],
   "source": [
    "print(iris_data['data'])"
   ]
  },
  {
   "cell_type": "code",
   "execution_count": null,
   "id": "2a14ade9",
   "metadata": {},
   "outputs": [],
   "source": [
    "print(iris_data['target'])\n",
    "print(iris_data['target_names'])\n",
    "print(iris_data['feature_names'])"
   ]
  },
  {
   "cell_type": "code",
   "execution_count": null,
   "id": "10e6c0cd",
   "metadata": {},
   "outputs": [],
   "source": [
    "print(iris_data['data'][0])\n",
    "print(iris_data['target'][0])\n",
    "print(iris_data['target_names'][0])"
   ]
  },
  {
   "cell_type": "code",
   "execution_count": null,
   "id": "2ee819dd",
   "metadata": {},
   "outputs": [],
   "source": []
  }
 ],
 "metadata": {
  "kernelspec": {
   "display_name": "Python 3",
   "language": "python",
   "name": "python3"
  },
  "language_info": {
   "codemirror_mode": {
    "name": "ipython",
    "version": 3
   },
   "file_extension": ".py",
   "mimetype": "text/x-python",
   "name": "python",
   "nbconvert_exporter": "python",
   "pygments_lexer": "ipython3",
   "version": "3.8.8"
  }
 },
 "nbformat": 4,
 "nbformat_minor": 5
}
