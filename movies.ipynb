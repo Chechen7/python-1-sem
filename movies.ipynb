{
 "cells": [
  {
   "cell_type": "code",
   "execution_count": 1,
   "id": "b36a1f02",
   "metadata": {},
   "outputs": [
    {
     "name": "stdout",
     "output_type": "stream",
     "text": [
      "          id   tid  raiting  timestemp gender  age  occuptaion postcode  \\\n",
      "0          1  1193        5  978300760      F    1          10    48067   \n",
      "1          1   661        3  978302109      F    1          10    48067   \n",
      "2          1   914        3  978301968      F    1          10    48067   \n",
      "3          1  3408        4  978300275      F    1          10    48067   \n",
      "4          1  2355        5  978824291      F    1          10    48067   \n",
      "...      ...   ...      ...        ...    ...  ...         ...      ...   \n",
      "645828  3952    85        3  974595183      F   45           1    12449   \n",
      "645829  3952  2032        3  974595637      F   45           1    12449   \n",
      "645830  3952  1230        5  965676609      F   45           1    12449   \n",
      "645831  3952  2971        4  974594814      F   45           1    12449   \n",
      "645832  3952  2043        4  965676638      F   45           1    12449   \n",
      "\n",
      "                         name                         year  genres  \n",
      "0            Toy Story (1995)  Animation|Children's|Comedy     NaN  \n",
      "1            Toy Story (1995)  Animation|Children's|Comedy     NaN  \n",
      "2            Toy Story (1995)  Animation|Children's|Comedy     NaN  \n",
      "3            Toy Story (1995)  Animation|Children's|Comedy     NaN  \n",
      "4            Toy Story (1995)  Animation|Children's|Comedy     NaN  \n",
      "...                       ...                          ...     ...  \n",
      "645828  Contender, The (2000)               Drama|Thriller     NaN  \n",
      "645829  Contender, The (2000)               Drama|Thriller     NaN  \n",
      "645830  Contender, The (2000)               Drama|Thriller     NaN  \n",
      "645831  Contender, The (2000)               Drama|Thriller     NaN  \n",
      "645832  Contender, The (2000)               Drama|Thriller     NaN  \n",
      "\n",
      "[645833 rows x 11 columns]\n"
     ]
    }
   ],
   "source": [
    "import pandas as pd\n",
    "m = ['id', 'name', 'year', 'genres']\n",
    "movies = pd.read_table('C:\\\\Users\\\\Лиза\\\\Downloads\\\\movielens\\\\movies.dat', sep = '::', engine = 'python', names = m)\n",
    "u = ['id', 'gender', 'age', 'occuptaion', 'postcode']\n",
    "users = pd.read_table('C:\\\\Users\\\\Лиза\\\\Downloads\\\\movielens\\\\users.dat', sep = '::', engine = 'python', names = u)\n",
    "r = ['id', 'tid', 'raiting', 'timestemp']\n",
    "raitings = pd.read_table('C:\\\\Users\\\\Лиза\\\\Downloads\\\\movielens\\\\ratings.dat', sep = '::', engine = 'python', names = r)\n",
    "data = pd.merge(raitings, users)\n",
    "data2 = pd.merge(data, movies)\n",
    "print(data2)"
   ]
  }
 ],
 "metadata": {
  "kernelspec": {
   "display_name": "Python 3",
   "language": "python",
   "name": "python3"
  },
  "language_info": {
   "codemirror_mode": {
    "name": "ipython",
    "version": 3
   },
   "file_extension": ".py",
   "mimetype": "text/x-python",
   "name": "python",
   "nbconvert_exporter": "python",
   "pygments_lexer": "ipython3",
   "version": "3.8.8"
  }
 },
 "nbformat": 4,
 "nbformat_minor": 5
}
