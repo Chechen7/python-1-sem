{
 "cells": [
  {
   "cell_type": "code",
   "execution_count": 13,
   "id": "f40ca04d",
   "metadata": {
    "scrolled": true
   },
   "outputs": [
    {
     "name": "stdout",
     "output_type": "stream",
     "text": [
      "Кошкам нельзя кушать шоколад и виноград\n",
      "Кошка является взрослой\n",
      "Кошка перестала расти\n",
      "Порода кошки зависит от породы её родителей\n",
      "Кошка тяжело поддаётся обучению\n"
     ]
    }
   ],
   "source": [
    "\n",
    "class Cat():\n",
    "    def __init__(self, breed, name, age, height, gender):\n",
    "        self.name = name\n",
    "        self.age = age\n",
    "        self.age >= 0\n",
    "        self.breed = breed\n",
    "        self.height = height\n",
    "        self.gender = gender\n",
    "        \n",
    "\n",
    "    def cannot_be_eaten(self):\n",
    "        print('Кошкам нельзя кушать шоколад и виноград')\n",
    "\n",
    "    def growing_up(self):\n",
    "        if(self.age < 0):\n",
    "            print(self.name.title() + ' не родилась')\n",
    "            \n",
    "        elif (self.age >=0 and self.age <= 6):\n",
    "            print(self.name.title() + ' является котёнком')\n",
    "        elif (self.age >6 and self.age <= 8):\n",
    "            print(self.name.title() + ' является подростком')\n",
    "        else:\n",
    "            print(self.name.title() + ' является взрослой')\n",
    "\n",
    "    def growth(self):\n",
    "        if(self.gender == 'f' and self.age == 18):\n",
    "            print('Кошка перестала расти')\n",
    "        elif(self.gender == 'm' and self.age == 24):\n",
    "            print('Кот перестал расти')\n",
    "\n",
    "    def breed_of_parents(self):\n",
    "            print('Порода кошки зависит от породы её родителей')\n",
    "            \n",
    "\n",
    "    def learnability(self):\n",
    "            print(self.name.title() + ' тяжело поддаётся обучению')\n",
    "\n",
    "\n",
    "\n",
    "cat1 = Cat('Шотландская вислоухая','кошка',18, 30, 'f')\n",
    "cat1.cannot_be_eaten()\n",
    "cat1.growing_up()\n",
    "cat1.growth()\n",
    "cat1.breed_of_parents()\n",
    "cat1.learnability()"
   ]
  },
  {
   "cell_type": "code",
   "execution_count": 14,
   "id": "7a275b08",
   "metadata": {},
   "outputs": [],
   "source": [
    "cat2 = Cat('Шотландская вислоухая1','кошка1',20, 31, 'f')\n"
   ]
  },
  {
   "cell_type": "code",
   "execution_count": 15,
   "id": "b19c230f",
   "metadata": {},
   "outputs": [
    {
     "data": {
      "text/plain": [
       "__main__.Cat"
      ]
     },
     "execution_count": 15,
     "metadata": {},
     "output_type": "execute_result"
    }
   ],
   "source": [
    "type(cat1)"
   ]
  },
  {
   "cell_type": "code",
   "execution_count": 6,
   "id": "04fd3039",
   "metadata": {},
   "outputs": [
    {
     "name": "stdout",
     "output_type": "stream",
     "text": [
      "Кошка, достигшая 7 месяцев, уже не является котёнком\n",
      "Котёнок не может кушать шоколад и виноград, а также козье молоко, сметану и домашний сыр, потому что это может вызвать отравление\n"
     ]
    }
   ],
   "source": [
    "class Cat():\n",
    "    def __init__(self, breed, name, age, height, gender):\n",
    "        self.name = name\n",
    "        self.age = age\n",
    "        self.age >= 0\n",
    "        self.breed = breed\n",
    "        self.height = height\n",
    "        self.gender = gender\n",
    "        \n",
    "\n",
    "    def cannot_be_eaten(self):\n",
    "        cbe = 'не может кушать шоколад и виноград'\n",
    "        cbe2 = ', потому что это может вызвать отравление'\n",
    "        print(self.name.title() + cbe + cbe2)\n",
    "\n",
    "    def growing_up(self):\n",
    "        if(self.age < 0):\n",
    "            print(self.name.title() + ' не родилась')\n",
    "            \n",
    "        elif (self.age >=0 and self.age <= 6):\n",
    "            print(self.name.title() + ' является котёнком')\n",
    "        elif (self.age >6 and self.age <= 8):\n",
    "            print(self.name.title() + ' является подростком')\n",
    "        else:\n",
    "            print(self.name.title() + ' является взрослой')\n",
    "\n",
    "    def growth(self):\n",
    "        if(self.gender == 'f' and self.age == 18):\n",
    "            print('Когда кошке исполняется ' + str(self.age) + ', она перестаёт расти')\n",
    "        elif(self.gender == 'm' and self.age == 24):\n",
    "            print('Когда коту исполняется ' + str(self.age) + ', он перестаёт расти')\n",
    "\n",
    "    def breed_of_parents(self):\n",
    "            print('Порода кошки зависит от породы её родителей')\n",
    "            \n",
    "\n",
    "    def learnability(self):\n",
    "            print(self.name.title() + ' тяжело поддаётся обучению')\n",
    "\n",
    "            \n",
    "class Kitten(Cat):\n",
    "    def __init__(self, breed, name, age, height, gender):\n",
    "        super().__init__(breed, name, age, height, gender)\n",
    "        self.sleep = 22\n",
    "    def growth(self):\n",
    "        if (self.age >=0 and self.age <= 6):\n",
    "            print('В ' + str(self.age)  + ' месяцев кошка является котёнком')\n",
    "        else:\n",
    "            print('Кошка, достигшая ' + str(self.age)  + ' месяцев, уже не является котёнком')\n",
    "    def cannot_be_eaten(self):\n",
    "        cbe = ' не может кушать шоколад и виноград'\n",
    "        cbe1 = ', а также козье молоко, сметану и домашний сыр'\n",
    "        cbe2 = ', потому что это может вызвать отравление'\n",
    "        print(self.name.title() + cbe + cbe1 + cbe2)\n",
    "        \n",
    "kitten1 = Kitten('Шотландская вислоухая','котёнок', 7, 12, 'f')\n",
    "kitten1.growth()\n",
    "kitten1.cannot_be_eaten()"
   ]
  }
 ],
 "metadata": {
  "kernelspec": {
   "display_name": "Python 3",
   "language": "python",
   "name": "python3"
  },
  "language_info": {
   "codemirror_mode": {
    "name": "ipython",
    "version": 3
   },
   "file_extension": ".py",
   "mimetype": "text/x-python",
   "name": "python",
   "nbconvert_exporter": "python",
   "pygments_lexer": "ipython3",
   "version": "3.8.8"
  }
 },
 "nbformat": 4,
 "nbformat_minor": 5
}
