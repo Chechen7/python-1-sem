{
 "cells": [
  {
   "cell_type": "code",
   "execution_count": 2,
   "id": "8c503afa",
   "metadata": {},
   "outputs": [
    {
     "name": "stdout",
     "output_type": "stream",
     "text": [
      "3\n",
      "2\n",
      "[[-1, 1, 1], [-1, 1, -1], [-1, 1, 1]]\n"
     ]
    }
   ],
   "source": [
    "def m():   \n",
    "    from random import randrange\n",
    "    n = int(input())\n",
    "    s1 = 0\n",
    "    s2 = 0\n",
    "    pr1 = 0\n",
    "    pr2 = 0\n",
    "    if n < 3:\n",
    "        print('try again')\n",
    "    else:\n",
    "        z = [[0]*n for j in range(n)]\n",
    "        for i in range(n):\n",
    "            for j in range(n):\n",
    "                z[i][j] = randrange(1, -2, -2)\n",
    "        for i in range(n):\n",
    "            for j in range(n):\n",
    "                for el in z:\n",
    "                    pr1 = z[i - 1][j] * z[i][j]\n",
    "                    pr2 = z[i][j - 1] * z[i][j]\n",
    "                s1 += pr1\n",
    "                s2 += pr2\n",
    "                \n",
    "        print(s1 + s2)\n",
    "        print(z)\n",
    "        \n",
    "m()"
   ]
  },
  {
   "cell_type": "code",
   "execution_count": 5,
   "id": "3e019871",
   "metadata": {
    "scrolled": true
   },
   "outputs": [
    {
     "name": "stdout",
     "output_type": "stream",
     "text": [
      "4\n",
      "32\n",
      "[[1, 1, 1, 1], [1, 1, 1, 1], [1, 1, 1, 1], [1, 1, 1, 1]]\n"
     ]
    }
   ],
   "source": [
    "n = int(input())\n",
    "s1 = 0\n",
    "s2 = 0\n",
    "pr1 = 0\n",
    "pr2 = 0\n",
    "z = [[1]*n for j in range(n)]\n",
    "for i in range(n):\n",
    "    for j in range(n):\n",
    "        for el in z:\n",
    "            pr1 = z[i - 1][j] * z[i][j]\n",
    "            pr2 = z[i][j - 1] * z[i][j]\n",
    "        s1 += pr1\n",
    "        s2 += pr2\n",
    "        \n",
    "print(s1 + s2)\n",
    "print(z)"
   ]
  }
 ],
 "metadata": {
  "kernelspec": {
   "display_name": "Python 3",
   "language": "python",
   "name": "python3"
  },
  "language_info": {
   "codemirror_mode": {
    "name": "ipython",
    "version": 3
   },
   "file_extension": ".py",
   "mimetype": "text/x-python",
   "name": "python",
   "nbconvert_exporter": "python",
   "pygments_lexer": "ipython3",
   "version": "3.8.8"
  }
 },
 "nbformat": 4,
 "nbformat_minor": 5
}
