{
 "cells": [
  {
   "cell_type": "code",
   "execution_count": 1,
   "id": "f6896926",
   "metadata": {},
   "outputs": [
    {
     "name": "stdout",
     "output_type": "stream",
     "text": [
      "input word rock\n",
      "rock \n",
      "rock \n",
      "draw\n"
     ]
    }
   ],
   "source": [
    "def game():\n",
    "    from random import randint\n",
    "    b = ['rock', 'paper', 'scissors']\n",
    "    c = b[randint(0, 2)]\n",
    "    a = input('input word ')\n",
    "    if a not in b:\n",
    "        print('try again')\n",
    "        return game\n",
    "    else:\n",
    "        if a == c:\n",
    "            print('%s \\n%s \\ndraw'%(a, c))\n",
    "        elif a == 'rock' and c == 'scissors':\n",
    "            print('%s \\n%s \\nyou win'%(a, c))\n",
    "        elif a == 'paper' and c == 'rock':\n",
    "            print ('%s \\n%s \\nyou win'%(a, c))\n",
    "        elif a == 'scissors' and c == 'paper':\n",
    "            print('%s \\n%s \\nyou win'%(a, c))\n",
    "        else:\n",
    "            \n",
    "            print('%s \\n%s \\nyou loose'%(a, c))\n",
    "game()    "
   ]
  },
  {
   "cell_type": "markdown",
   "id": "44ce194d",
   "metadata": {},
   "source": [
    "from random import randint\n",
    "l1 = int(input())\n",
    "l2 = int(input())\n",
    "z \n",
    "print(z)\n"
   ]
  },
  {
   "cell_type": "code",
   "execution_count": 65,
   "id": "8c503afa",
   "metadata": {},
   "outputs": [
    {
     "name": "stdout",
     "output_type": "stream",
     "text": [
      "3\n",
      "-2\n",
      "[[-1, -1, 1], [-1, 1, -1], [-1, 1, -1]]\n"
     ]
    }
   ],
   "source": [
    "def m():   \n",
    "    from random import randrange\n",
    "    n = int(input())\n",
    "    s1 = 0\n",
    "    s2 = 0\n",
    "    pr1 = 0\n",
    "    pr2 = 0\n",
    "    if n < 3:\n",
    "        print('try again')\n",
    "    else:\n",
    "        z = [[0]*n for j in range(n)]\n",
    "        for i in range(n):\n",
    "            for j in range(n):\n",
    "                z[i][j] = randrange(1, -2, -2)\n",
    "        for i in range(n):\n",
    "            for j in range(n):\n",
    "                for el in z:\n",
    "                    pr1 = z[i - 1][j] * z[i][j]\n",
    "                    pr2 = z[i][j - 1] * z[i][j]\n",
    "                s1 += pr1\n",
    "                s2 += pr2\n",
    "                \n",
    "        print(s1 + s2)\n",
    "        print(z)\n",
    "        \n",
    "m()"
   ]
  },
  {
   "cell_type": "code",
   "execution_count": 64,
   "id": "12f4ec25",
   "metadata": {
    "scrolled": true
   },
   "outputs": [
    {
     "name": "stdout",
     "output_type": "stream",
     "text": [
      "5\n",
      "50\n",
      "[[1, 1, 1, 1, 1], [1, 1, 1, 1, 1], [1, 1, 1, 1, 1], [1, 1, 1, 1, 1], [1, 1, 1, 1, 1]]\n"
     ]
    }
   ],
   "source": [
    "n = int(input())\n",
    "s1 = 0\n",
    "s2 = 0\n",
    "pr1 = 0\n",
    "pr2 = 0\n",
    "z = [[1]*n for j in range(n)]\n",
    "for i in range(n):\n",
    "    for j in range(n):\n",
    "        for el in z:\n",
    "            pr1 = z[i - 1][j] * z[i][j]\n",
    "            pr2 = z[i][j - 1] * z[i][j]\n",
    "        s1 += pr1\n",
    "        s2 += pr2\n",
    "        \n",
    "print(s1 + s2)\n",
    "print(z)"
   ]
  },
  {
   "cell_type": "code",
   "execution_count": 16,
   "id": "f69fb953",
   "metadata": {},
   "outputs": [
    {
     "name": "stdout",
     "output_type": "stream",
     "text": [
      "3\n"
     ]
    },
    {
     "ename": "IndexError",
     "evalue": "list index out of range",
     "output_type": "error",
     "traceback": [
      "\u001b[1;31m---------------------------------------------------------------------------\u001b[0m",
      "\u001b[1;31mIndexError\u001b[0m                                Traceback (most recent call last)",
      "\u001b[1;32m<ipython-input-16-9fd35914e440>\u001b[0m in \u001b[0;36m<module>\u001b[1;34m\u001b[0m\n\u001b[0;32m      4\u001b[0m \u001b[0mz\u001b[0m \u001b[1;33m=\u001b[0m \u001b[1;33m[\u001b[0m\u001b[1;33m[\u001b[0m\u001b[0mrandrange\u001b[0m\u001b[1;33m(\u001b[0m\u001b[1;36m1\u001b[0m\u001b[1;33m,\u001b[0m \u001b[1;33m-\u001b[0m\u001b[1;36m2\u001b[0m\u001b[1;33m,\u001b[0m \u001b[1;33m-\u001b[0m\u001b[1;36m2\u001b[0m\u001b[1;33m)\u001b[0m \u001b[1;32mfor\u001b[0m \u001b[0mi\u001b[0m \u001b[1;32min\u001b[0m \u001b[0mrange\u001b[0m\u001b[1;33m(\u001b[0m\u001b[0mn\u001b[0m\u001b[1;33m)\u001b[0m\u001b[1;33m]\u001b[0m \u001b[1;32mfor\u001b[0m \u001b[0mj\u001b[0m \u001b[1;32min\u001b[0m \u001b[0mrange\u001b[0m\u001b[1;33m(\u001b[0m\u001b[0mn\u001b[0m\u001b[1;33m)\u001b[0m\u001b[1;33m]\u001b[0m\u001b[1;33m\u001b[0m\u001b[1;33m\u001b[0m\u001b[0m\n\u001b[0;32m      5\u001b[0m \u001b[1;32mfor\u001b[0m \u001b[0mel\u001b[0m \u001b[1;32min\u001b[0m \u001b[0mz\u001b[0m\u001b[1;33m:\u001b[0m\u001b[1;33m\u001b[0m\u001b[1;33m\u001b[0m\u001b[0m\n\u001b[1;32m----> 6\u001b[1;33m     \u001b[0ms\u001b[0m \u001b[1;33m=\u001b[0m \u001b[0mz\u001b[0m\u001b[1;33m[\u001b[0m\u001b[0mi\u001b[0m\u001b[1;33m]\u001b[0m\u001b[1;33m[\u001b[0m\u001b[0mj\u001b[0m\u001b[1;33m]\u001b[0m \u001b[1;33m*\u001b[0m \u001b[0mz\u001b[0m\u001b[1;33m[\u001b[0m\u001b[0mi\u001b[0m\u001b[1;33m+\u001b[0m\u001b[1;36m1\u001b[0m\u001b[1;33m]\u001b[0m\u001b[1;33m[\u001b[0m\u001b[0mj\u001b[0m\u001b[1;33m]\u001b[0m \u001b[1;33m+\u001b[0m \u001b[0mz\u001b[0m\u001b[1;33m[\u001b[0m\u001b[0mi\u001b[0m\u001b[1;33m]\u001b[0m\u001b[1;33m[\u001b[0m\u001b[0mj\u001b[0m\u001b[1;33m]\u001b[0m \u001b[1;33m*\u001b[0m \u001b[0mz\u001b[0m\u001b[1;33m[\u001b[0m\u001b[0mi\u001b[0m \u001b[1;33m-\u001b[0m \u001b[1;36m1\u001b[0m\u001b[1;33m]\u001b[0m\u001b[1;33m[\u001b[0m\u001b[0mj\u001b[0m\u001b[1;33m]\u001b[0m \u001b[1;33m+\u001b[0m \u001b[0mz\u001b[0m\u001b[1;33m[\u001b[0m\u001b[0mi\u001b[0m\u001b[1;33m]\u001b[0m\u001b[1;33m[\u001b[0m\u001b[0mj\u001b[0m\u001b[1;33m]\u001b[0m \u001b[1;33m*\u001b[0m \u001b[0mz\u001b[0m\u001b[1;33m[\u001b[0m\u001b[0mi\u001b[0m\u001b[1;33m]\u001b[0m\u001b[1;33m[\u001b[0m\u001b[0mj\u001b[0m \u001b[1;33m+\u001b[0m \u001b[1;36m1\u001b[0m\u001b[1;33m]\u001b[0m \u001b[1;33m+\u001b[0m \u001b[0mz\u001b[0m\u001b[1;33m[\u001b[0m\u001b[0mi\u001b[0m\u001b[1;33m]\u001b[0m\u001b[1;33m[\u001b[0m\u001b[0mj\u001b[0m\u001b[1;33m]\u001b[0m \u001b[1;33m*\u001b[0m \u001b[0mz\u001b[0m\u001b[1;33m[\u001b[0m\u001b[0mi\u001b[0m\u001b[1;33m]\u001b[0m\u001b[1;33m[\u001b[0m\u001b[0mj\u001b[0m \u001b[1;33m-\u001b[0m \u001b[1;36m1\u001b[0m\u001b[1;33m]\u001b[0m\u001b[1;33m\u001b[0m\u001b[1;33m\u001b[0m\u001b[0m\n\u001b[0m\u001b[0;32m      7\u001b[0m     \u001b[0mprint\u001b[0m\u001b[1;33m(\u001b[0m\u001b[0ms\u001b[0m\u001b[1;33m)\u001b[0m\u001b[1;33m\u001b[0m\u001b[1;33m\u001b[0m\u001b[0m\n\u001b[0;32m      8\u001b[0m \u001b[1;33m\u001b[0m\u001b[0m\n",
      "\u001b[1;31mIndexError\u001b[0m: list index out of range"
     ]
    }
   ],
   "source": [
    "from random import randrange\n",
    "n = int(input())\n",
    "s = 0\n",
    "z = [[randrange(1, -2, -2) for i in range(n)] for j in range(n)]\n",
    "for el in z:\n",
    "    s = z[i][j] * z[i+1][j] + z[i][j] * z[i - 1][j] + z[i][j] * z[i][j + 1] + z[i][j] * z[i][j - 1]\n",
    "    print(s)\n",
    "        \n",
    "print(z)"
   ]
  }
 ],
 "metadata": {
  "kernelspec": {
   "display_name": "Python 3",
   "language": "python",
   "name": "python3"
  },
  "language_info": {
   "codemirror_mode": {
    "name": "ipython",
    "version": 3
   },
   "file_extension": ".py",
   "mimetype": "text/x-python",
   "name": "python",
   "nbconvert_exporter": "python",
   "pygments_lexer": "ipython3",
   "version": "3.8.8"
  }
 },
 "nbformat": 4,
 "nbformat_minor": 5
}
